{
  "nbformat": 4,
  "nbformat_minor": 0,
  "metadata": {
    "colab": {
      "provenance": [],
      "gpuType": "T4",
      "authorship_tag": "ABX9TyO5wNwRJzjhWO2zGS0FyXHY",
      "include_colab_link": true
    },
    "kernelspec": {
      "name": "python3",
      "display_name": "Python 3"
    },
    "language_info": {
      "name": "python"
    },
    "accelerator": "GPU"
  },
  "cells": [
    {
      "cell_type": "markdown",
      "metadata": {
        "id": "view-in-github",
        "colab_type": "text"
      },
      "source": [
        "<a href=\"https://colab.research.google.com/github/ks-chauhan/radar-activity-recognition/blob/main/notebooks/Multi_Input_Radar_Classification.ipynb\" target=\"_parent\"><img src=\"https://colab.research.google.com/assets/colab-badge.svg\" alt=\"Open In Colab\"/></a>"
      ]
    },
    {
      "cell_type": "code",
      "source": [
        "import torch\n",
        "import torch.nn as nn\n",
        "from torchvision import datasets, transforms\n",
        "from torch.utils.data import DataLoader, Dataset, random_split\n",
        "import numpy as np\n",
        "import time\n",
        "from PIL import Image\n",
        "import os\n",
        "from sklearn.metrics import ConfusionMatrixDisplay, confusion_matrix, classification_report\n",
        "import matplotlib.pyplot as plt"
      ],
      "metadata": {
        "id": "_9phcdfqHtbA"
      },
      "execution_count": 1,
      "outputs": []
    },
    {
      "cell_type": "code",
      "execution_count": 2,
      "metadata": {
        "colab": {
          "base_uri": "https://localhost:8080/"
        },
        "id": "QlYf5SICG4EG",
        "outputId": "04a8d6bb-7e7c-4bad-d358-4814e7b4a7a9"
      },
      "outputs": [
        {
          "output_type": "stream",
          "name": "stdout",
          "text": [
            "Mounted at /content/drive\n"
          ]
        }
      ],
      "source": [
        "## Mount Drive\n",
        "from google.colab import drive\n",
        "drive.mount('/content/drive')"
      ]
    },
    {
      "cell_type": "code",
      "source": [
        "# Path to save the unzipped\n",
        "ZIP_DATA_PATH = \"/content/drive/MyDrive/preprocessed_data.zip\"\n",
        "DESTINATION_PATH = \"/content/\"\n",
        "\n",
        "print(f\"unizipping dataset from {ZIP_DATA_PATH}\")\n",
        "!unzip -q \"/content/drive/MyDrive/preprocessed_data.zip\" -d \"/content/\"\n",
        "print(\"Dataset unzipped successfully.\\n\")\n"
      ],
      "metadata": {
        "colab": {
          "base_uri": "https://localhost:8080/"
        },
        "id": "3pcGLhHgKlfL",
        "outputId": "cc11914e-122f-48e8-80ad-c3de9e8a926f"
      },
      "execution_count": 3,
      "outputs": [
        {
          "output_type": "stream",
          "name": "stdout",
          "text": [
            "unizipping dataset from /content/drive/MyDrive/preprocessed_data.zip\n",
            "Dataset unzipped successfully.\n",
            "\n"
          ]
        }
      ]
    },
    {
      "cell_type": "code",
      "source": [
        "## --- CONFIGURATION ---\n",
        "\n",
        "# Path to\n",
        "PROCESSED_DATA_FOLDER = \"/content/preprocessed_data\"\n",
        "\n",
        "# Path to save the model\n",
        "MODEL_PATH = \"/content/drive/MyDrive/Data_Save_Path\"\n",
        "os.makedirs(MODEL_PATH, exist_ok = True)\n",
        "\n",
        "# Model training parameters\n",
        "IMG_SIZE = 128\n",
        "BATCH_SIZE = 32\n",
        "VALIDATION_SPLIT = 0.2\n",
        "NUM_EPOCHS = 25\n",
        "LEARNING_RATE = 0.0005"
      ],
      "metadata": {
        "id": "V2Q4p1PmHO_F"
      },
      "execution_count": 4,
      "outputs": []
    },
    {
      "cell_type": "code",
      "source": [
        "# --- CUSTOM DATASET DEFINITION ---\n",
        "class MultiInputDataset(Dataset):\n",
        "  \"\"\"Custom Dataset to load image, its activity class and its radar type\"\"\"\n",
        "  def __init__(self, root_dir, transform = None):\n",
        "    self.root_dir = root_dir\n",
        "    self.transform = transform\n",
        "    self.samples = []\n",
        "    self.activity_to_idx = {}\n",
        "    self.radar_to_idx = {}\n",
        "    self._initialize_dataset()\n",
        "\n",
        "  def _initialize_dataset(self):\n",
        "    # Find all the main radar type folders (e.g., '24GHz', '77GHz', 'Xethru')\n",
        "    radar_types = sorted([d for d in os.listdir(self.root_dir) if os.path.isdir(os.path.join(self.root_dir, d))])\n",
        "    self.radar_to_idx = {name : i for i,name in enumerate(radar_types)} # Assigning index to the radars\n",
        "\n",
        "    # the activity class folders from the first radar type's directory\n",
        "    first_radar_path = os.path.join(self.root_dir, radar_types[0])\n",
        "    activity_classes = sorted([d for d in os.listdir(first_radar_path) if os.path.isdir(os.path.join(first_radar_path, d))])\n",
        "    self.activity_to_idx = {name : i for i, name in enumerate(activity_classes)} # Assigning index to activities\n",
        "\n",
        "    # Loop through each top-level radar folder\n",
        "    for radar_name, radar_idx in self.radar_to_idx.items():\n",
        "      radar_path = os.path.join(self.root_dir, radar_name)\n",
        "\n",
        "      # loop through each activity subfolder inside each radar type folder\n",
        "      for activity_name, activity_idx in self.activity_to_idx.items():\n",
        "        activity_path = os.path.join(radar_path, activity_name)\n",
        "\n",
        "        if os.path.isdir(activity_path):\n",
        "          # Loop through each image file inside the current activity folder\n",
        "          # Example: filename = 'walk_01.png'\n",
        "          for filename in os.listdir(activity_path):\n",
        "            if filename.lower().endswith((\".png\",\".jpg\",\".jpeg\")):\n",
        "              img_path = os.path.join(activity_path, filename)\n",
        "              self.samples.append((img_path, activity_idx, radar_idx))\n",
        "\n",
        "  def __len__(self):\n",
        "    return len(self.samples)\n",
        "\n",
        "  def __getitem__(self, idx):\n",
        "    img_path, activity_idx, radar_idx = self.samples[idx]\n",
        "    image = Image.open(img_path).convert('RGB')\n",
        "    if self.transform:\n",
        "      image = self.transform(image)\n",
        "    activity_label = torch.tensor(activity_idx, dtype = torch.long)\n",
        "    radar_label = torch.tensor(radar_idx, dtype = torch.long)\n",
        "    return image, radar_label, activity_label\n"
      ],
      "metadata": {
        "id": "BkIn9r6XNLb9"
      },
      "execution_count": 5,
      "outputs": []
    },
    {
      "cell_type": "code",
      "source": [
        "## ---- DATA LOADING & PREPARATION ----\n",
        "print(\"--- loading and preparing dataset ---\")\n",
        "\n",
        "data_transform = transforms.Compose([\n",
        "    transforms.Resize((IMG_SIZE, IMG_SIZE)),\n",
        "    transforms.ToTensor(),\n",
        "])\n",
        "\n",
        "full_dataset = MultiInputDataset(root_dir = PROCESSED_DATA_FOLDER, transform = data_transform)\n",
        "activity_label_names = list(full_dataset.activity_to_idx.keys())\n",
        "radar_names = list(full_dataset.radar_to_idx.keys())\n",
        "num_activities = len(activity_label_names)\n",
        "num_radars = len(radar_names)\n",
        "\n",
        "print(f\"found {num_activities} in activities : {activity_label_names}\")\n",
        "print(f\"found {num_radars} in activities : {radar_names}\")\n",
        "\n",
        "num_values = len(full_dataset)\n",
        "num_val = int(VALIDATION_SPLIT * num_values)\n",
        "num_train = num_values - num_val\n",
        "\n",
        "train_dataset, val_dataset = random_split(full_dataset, [num_train, num_val], generator = torch.Generator().manual_seed(18))\n",
        "\n",
        "print(f\"total images : {num_values}\")\n",
        "print(f\"training images : {len(train_dataset)}\")\n",
        "print(f\"validation images : {len(val_dataset)}\")\n",
        "\n",
        "train_loader = DataLoader(train_dataset, batch_size = BATCH_SIZE, shuffle = True)\n",
        "validation_loader = DataLoader(val_dataset, batch_size = BATCH_SIZE, shuffle = True)\n",
        "\n",
        "print(\"Data is ready\")"
      ],
      "metadata": {
        "colab": {
          "base_uri": "https://localhost:8080/"
        },
        "id": "EmDAR6VkZWrs",
        "outputId": "5262b46d-a4e2-4cdd-fbf2-b83988e04beb"
      },
      "execution_count": 6,
      "outputs": [
        {
          "output_type": "stream",
          "name": "stdout",
          "text": [
            "--- loading and preparing dataset ---\n",
            "found 11 in activities : ['Away', 'Bend', 'Crawl', 'Kneel', 'Limp', 'Pick', 'SStep', 'Scissor', 'Sit', 'Toes', 'Towards']\n",
            "found 3 in activities : ['24GHz', '77GHz', 'Xethru']\n",
            "total images : 1959\n",
            "training images : 1568\n",
            "validation images : 391\n",
            "Data is ready\n"
          ]
        }
      ]
    },
    {
      "cell_type": "code",
      "source": [
        "class MultiInputCNN(nn.Module):\n",
        "  def __init__(self, num_activities, num_radars, radar_embedding_dim = 16):\n",
        "    super(MultiInputCNN, self).__init__()\n",
        "    self.cnn_branch = nn.Sequential(\n",
        "        nn.Conv2d(3, 16, kernel_size = 3, stride = 1, padding = 1), nn.ReLU(), nn.MaxPool2d(kernel_size = 2, stride = 2),\n",
        "        nn.Conv2d(16, 32, kernel_size = 3, stride = 1, padding = 1), nn.ReLU(), nn.MaxPool2d(kernel_size = 2, stride = 2),\n",
        "        nn.Conv2d(32, 64, kernel_size = 3, stride = 1, padding = 1), nn.ReLU(), nn.MaxPool2d(kernel_size = 2, stride = 2),\n",
        "        nn.Flatten()\n",
        "    )\n",
        "    cnn_output_size = 64 * 16 * 16\n",
        "    self.radar_embedding = nn.Embedding(num_radars, radar_embedding_dim)\n",
        "    self.classifier = nn.Sequential(\n",
        "        nn.Linear(cnn_output_size + radar_embedding_dim, 512), nn.ReLU(),\n",
        "        nn.Dropout(0.5), nn.Linear(512, num_activities)\n",
        "    )\n",
        "\n",
        "  def forward(self, image, radar_type):\n",
        "    image_features = self.cnn_branch(image)\n",
        "    radar_features = self.radar_embedding(radar_type)\n",
        "    combined_features = torch.cat((image_features, radar_features), dim = 1)\n",
        "    output = self.classifier(combined_features)\n",
        "    return output\n"
      ],
      "metadata": {
        "id": "_AdasUR0xD4D"
      },
      "execution_count": 7,
      "outputs": []
    },
    {
      "cell_type": "code",
      "source": [
        "device = torch.device(\"cuda\" if torch.cuda.is_available() else \"cpu\")\n",
        "print(f\"using device : {device}\")"
      ],
      "metadata": {
        "colab": {
          "base_uri": "https://localhost:8080/"
        },
        "id": "r_g34yMeO9v7",
        "outputId": "f364d23d-e134-48ed-8525-e932d19ccf52"
      },
      "execution_count": 8,
      "outputs": [
        {
          "output_type": "stream",
          "name": "stdout",
          "text": [
            "using device : cuda\n"
          ]
        }
      ]
    },
    {
      "cell_type": "code",
      "source": [
        "## Instantiating the model\n",
        "model = MultiInputCNN(num_activities, num_radars).to(device)\n",
        "\n",
        "## Setting training parameters\n",
        "criterion = nn.CrossEntropyLoss()\n",
        "optimizer = torch.optim.Adam(params = model.parameters(), lr = LEARNING_RATE)\n",
        "\n",
        "best_val_acc = 0.0\n",
        "best_val_loss = 10000"
      ],
      "metadata": {
        "id": "xZ6aWnXJPGiE"
      },
      "execution_count": 9,
      "outputs": []
    },
    {
      "cell_type": "code",
      "source": [
        "start_time = time.time()\n",
        "\n",
        "## ----- TRAINING MODEL -----\n",
        "for epoch in range(NUM_EPOCHS):\n",
        "  model.train()\n",
        "  running_loss = 0.0\n",
        "  correct_predictions = 0\n",
        "  total_samples = 0\n",
        "  for images, radar_labels, activity_names in train_loader:\n",
        "    images = images.to(device)\n",
        "    radar_labels = radar_labels.to(device)\n",
        "    activity_names = activity_names.to(device)\n",
        "    prediction = model(images, radar_labels)\n",
        "    loss = criterion(prediction, activity_names)\n",
        "    optimizer.zero_grad()\n",
        "    loss.backward()\n",
        "    optimizer.step()\n",
        "\n",
        "    running_loss += loss.item() * images.size(0)\n",
        "    _, predicted = torch.max(prediction.data, 1)\n",
        "    total_samples += activity_names.size(0)\n",
        "    correct_predictions += (predicted == activity_names).sum().item()\n",
        "\n",
        "  epoch_loss = running_loss / total_samples\n",
        "  epoch_acc = (correct_predictions / total_samples) * 100\n",
        "\n",
        "  model.eval()\n",
        "  val_running_loss = 0.0\n",
        "  val_correct_predictions = 0\n",
        "  val_total_samples = 0\n",
        "  with torch.no_grad():\n",
        "    for val_images, val_radar_labels, val_activity_names in validation_loader:\n",
        "      val_images = val_images.to(device)\n",
        "      val_radar_labels = val_radar_labels.to(device)\n",
        "      val_activity_names = val_activity_names.to(device)\n",
        "\n",
        "      val_prediction = model(val_images, val_radar_labels)\n",
        "      loss = criterion(val_prediction, val_activity_names)\n",
        "      val_running_loss += loss.item() * val_images.size(0)\n",
        "      _, val_predicted = torch.max(val_prediction.data, 1)\n",
        "      val_total_samples += val_activity_names.size(0)\n",
        "      val_correct_predictions += (val_predicted == val_activity_names).sum().item()\n",
        "\n",
        "    val_epoch_loss = val_running_loss / val_total_samples\n",
        "    val_epoch_acc = (val_correct_predictions / val_total_samples) * 100\n",
        "\n",
        "    print(f\"Epoch {epoch+1}/{NUM_EPOCHS} | \")\n",
        "    print(f\"Training Loss: {epoch_loss:.2f} and Training Accuracy: {epoch_acc:.2f}\")\n",
        "    print(f\"Validation Loss: {val_epoch_loss:.2f} and Validation Accuracy: {val_epoch_acc:.2f}\")\n",
        "\n",
        "    if val_epoch_acc > best_val_acc and val_epoch_loss < best_val_loss:\n",
        "      best_val_acc = val_epoch_acc\n",
        "      best_val_loss = val_epoch_loss\n",
        "      torch.save(model.state_dict(), os.path.join(MODEL_PATH,\"MultiInputBestModel.pth\"))\n",
        "      print(f\"new best model saved with accuracy -> {best_val_acc}\")\n",
        "\n",
        "print(\"Training Finished\")\n",
        "end_time = time.time()\n",
        "total_time = end_time - start_time\n",
        "print(f\"total training time : {total_time}\")"
      ],
      "metadata": {
        "id": "Qd5JY68XWE1F",
        "colab": {
          "base_uri": "https://localhost:8080/"
        },
        "outputId": "92c20382-a217-47fd-bccb-f6c636bf84e4"
      },
      "execution_count": 10,
      "outputs": [
        {
          "output_type": "stream",
          "name": "stdout",
          "text": [
            "Epoch 1/25 | \n",
            "Training Loss: 1.93 and Training Accuracy: 31.31\n",
            "Validation Loss: 1.31 and Validation Accuracy: 48.34\n",
            "new best model saved with accuracy -> 48.33759590792839\n",
            "Epoch 2/25 | \n",
            "Training Loss: 1.20 and Training Accuracy: 53.89\n",
            "Validation Loss: 0.96 and Validation Accuracy: 63.94\n",
            "new best model saved with accuracy -> 63.9386189258312\n",
            "Epoch 3/25 | \n",
            "Training Loss: 0.98 and Training Accuracy: 61.93\n",
            "Validation Loss: 0.76 and Validation Accuracy: 70.84\n",
            "new best model saved with accuracy -> 70.84398976982096\n",
            "Epoch 4/25 | \n",
            "Training Loss: 0.84 and Training Accuracy: 67.35\n",
            "Validation Loss: 0.71 and Validation Accuracy: 72.38\n",
            "new best model saved with accuracy -> 72.37851662404093\n",
            "Epoch 5/25 | \n",
            "Training Loss: 0.73 and Training Accuracy: 69.83\n",
            "Validation Loss: 0.63 and Validation Accuracy: 74.68\n",
            "new best model saved with accuracy -> 74.68030690537084\n",
            "Epoch 6/25 | \n",
            "Training Loss: 0.69 and Training Accuracy: 73.92\n",
            "Validation Loss: 0.61 and Validation Accuracy: 76.73\n",
            "new best model saved with accuracy -> 76.72634271099744\n",
            "Epoch 7/25 | \n",
            "Training Loss: 0.58 and Training Accuracy: 76.91\n",
            "Validation Loss: 0.58 and Validation Accuracy: 77.49\n",
            "new best model saved with accuracy -> 77.49360613810742\n",
            "Epoch 8/25 | \n",
            "Training Loss: 0.56 and Training Accuracy: 78.95\n",
            "Validation Loss: 0.54 and Validation Accuracy: 79.54\n",
            "new best model saved with accuracy -> 79.53964194373401\n",
            "Epoch 9/25 | \n",
            "Training Loss: 0.47 and Training Accuracy: 81.19\n",
            "Validation Loss: 0.51 and Validation Accuracy: 79.80\n",
            "new best model saved with accuracy -> 79.79539641943734\n",
            "Epoch 10/25 | \n",
            "Training Loss: 0.44 and Training Accuracy: 82.27\n",
            "Validation Loss: 0.49 and Validation Accuracy: 81.07\n",
            "new best model saved with accuracy -> 81.07416879795396\n",
            "Epoch 11/25 | \n",
            "Training Loss: 0.36 and Training Accuracy: 85.71\n",
            "Validation Loss: 0.48 and Validation Accuracy: 81.59\n",
            "new best model saved with accuracy -> 81.58567774936061\n",
            "Epoch 12/25 | \n",
            "Training Loss: 0.29 and Training Accuracy: 88.27\n",
            "Validation Loss: 0.46 and Validation Accuracy: 84.14\n",
            "new best model saved with accuracy -> 84.14322250639387\n",
            "Epoch 13/25 | \n",
            "Training Loss: 0.27 and Training Accuracy: 90.24\n",
            "Validation Loss: 0.45 and Validation Accuracy: 82.86\n",
            "Epoch 14/25 | \n",
            "Training Loss: 0.23 and Training Accuracy: 91.96\n",
            "Validation Loss: 0.44 and Validation Accuracy: 84.65\n",
            "new best model saved with accuracy -> 84.65473145780051\n",
            "Epoch 15/25 | \n",
            "Training Loss: 0.18 and Training Accuracy: 93.11\n",
            "Validation Loss: 0.47 and Validation Accuracy: 84.40\n",
            "Epoch 16/25 | \n",
            "Training Loss: 0.19 and Training Accuracy: 92.86\n",
            "Validation Loss: 0.49 and Validation Accuracy: 84.65\n",
            "Epoch 17/25 | \n",
            "Training Loss: 0.16 and Training Accuracy: 94.64\n",
            "Validation Loss: 0.52 and Validation Accuracy: 83.63\n",
            "Epoch 18/25 | \n",
            "Training Loss: 0.14 and Training Accuracy: 95.09\n",
            "Validation Loss: 0.51 and Validation Accuracy: 84.14\n",
            "Epoch 19/25 | \n",
            "Training Loss: 0.11 and Training Accuracy: 96.49\n",
            "Validation Loss: 0.49 and Validation Accuracy: 84.65\n",
            "Epoch 20/25 | \n",
            "Training Loss: 0.10 and Training Accuracy: 96.49\n",
            "Validation Loss: 0.54 and Validation Accuracy: 84.65\n",
            "Epoch 21/25 | \n",
            "Training Loss: 0.09 and Training Accuracy: 97.07\n",
            "Validation Loss: 0.56 and Validation Accuracy: 84.14\n",
            "Epoch 22/25 | \n",
            "Training Loss: 0.09 and Training Accuracy: 97.26\n",
            "Validation Loss: 0.54 and Validation Accuracy: 83.89\n",
            "Epoch 23/25 | \n",
            "Training Loss: 0.10 and Training Accuracy: 96.81\n",
            "Validation Loss: 0.56 and Validation Accuracy: 84.40\n",
            "Epoch 24/25 | \n",
            "Training Loss: 0.10 and Training Accuracy: 96.88\n",
            "Validation Loss: 0.56 and Validation Accuracy: 84.40\n",
            "Epoch 25/25 | \n",
            "Training Loss: 0.08 and Training Accuracy: 97.70\n",
            "Validation Loss: 0.56 and Validation Accuracy: 86.45\n",
            "Training Finished\n",
            "total training time : 63.73951745033264\n"
          ]
        }
      ]
    },
    {
      "cell_type": "code",
      "source": [
        "# --- 6. MODEL EVALUATION ---\n",
        "print(\"\\n                   --- MODEL EVALUATION ---\")\n",
        "best_model_path = os.path.join(MODEL_PATH,\"MultiInputBestModel.pth\")\n",
        "if os.path.exists(best_model_path):\n",
        "  print(f\"loading best model from {best_model_path}\")\n",
        "  model.load_state_dict(torch.load(best_model_path))\n",
        "else:\n",
        "  print(\"no best model found at the specified path\")\n",
        "\n",
        "model.eval() # Set model to evaluation mode\n",
        "\n",
        "all_preds = []\n",
        "all_labels = []\n",
        "\n",
        "# Get Predictions for the entire validation set\n",
        "with torch.no_grad():\n",
        "  for images, radar_labels, activity_names in validation_loader:\n",
        "    images = images.to(device)\n",
        "    radar_labels = radar_labels.to(device)\n",
        "    activity_names = activity_names.to(device)\n",
        "\n",
        "    preds = model(images, radar_labels)\n",
        "    _, predicted = torch.max(preds.data, 1)\n",
        "\n",
        "    all_preds.extend(predicted.cpu().numpy())\n",
        "    all_labels.extend(activity_names.cpu().numpy())\n",
        "\n",
        "# 1.) Classification Report (Precision, Recall, F1-Score)\n",
        "print(\"\\n Classification Report : \")\n",
        "print(classification_report(all_labels, all_preds, target_names = activity_label_names))\n",
        "\n",
        "# 2.) Confusion Matrix\n",
        "print(\"\\n Confusion Matrix : \")\n",
        "cm = confusion_matrix(all_labels, all_preds)\n",
        "disp = ConfusionMatrixDisplay(confusion_matrix = cm, display_labels = activity_label_names)\n",
        "\n",
        "fig, ax = plt.subplots(figsize = (10, 10))\n",
        "disp.plot(ax = ax, xticks_rotation='vertical', cmap = 'Blues')\n",
        "plt.title(\"Confusion Matrix\")\n",
        "plt.show()\n"
      ],
      "metadata": {
        "colab": {
          "base_uri": "https://localhost:8080/",
          "height": 1000
        },
        "id": "r_ghMJEa5KC6",
        "outputId": "a59b0cab-e677-4ea1-dba1-e7751e2e7dc0"
      },
      "execution_count": 13,
      "outputs": [
        {
          "output_type": "stream",
          "name": "stdout",
          "text": [
            "\n",
            "                   --- MODEL EVALUATION ---\n",
            "loading best model from /content/drive/MyDrive/Data_Save_Path/MultiInputBestModel.pth\n",
            "\n",
            " Classification Report : \n",
            "              precision    recall  f1-score   support\n",
            "\n",
            "        Away       1.00      1.00      1.00        28\n",
            "        Bend       0.93      0.86      0.89        29\n",
            "       Crawl       0.93      1.00      0.96        40\n",
            "       Kneel       0.89      0.92      0.91        37\n",
            "        Limp       0.76      0.71      0.73        31\n",
            "        Pick       0.85      0.87      0.86        38\n",
            "       SStep       0.91      0.78      0.84        41\n",
            "     Scissor       0.74      0.67      0.70        42\n",
            "         Sit       0.94      0.92      0.93        37\n",
            "        Toes       0.61      0.71      0.66        31\n",
            "     Towards       0.79      0.89      0.84        37\n",
            "\n",
            "    accuracy                           0.85       391\n",
            "   macro avg       0.85      0.85      0.85       391\n",
            "weighted avg       0.85      0.85      0.85       391\n",
            "\n",
            "\n",
            " Confusion Matrix : \n"
          ]
        },
        {
          "output_type": "display_data",
          "data": {
            "text/plain": [
              "<Figure size 1000x1000 with 2 Axes>"
            ],
            "image/png": "[encoded data removed]"
          },
          "metadata": {}
        }
      ]
    },
    {
      "cell_type": "code",
      "source": [],
      "metadata": {
        "id": "9N6vzuFOiXHz"
      },
      "execution_count": null,
      "outputs": []
    }
  ]
}