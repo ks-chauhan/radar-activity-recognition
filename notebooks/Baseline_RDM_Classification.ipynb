{
  "nbformat": 4,
  "nbformat_minor": 0,
  "metadata": {
    "colab": {
      "provenance": [],
      "gpuType": "T4",
      "authorship_tag": "ABX9TyPe5cYLvmHHoB1lOhtwgTsC",
      "include_colab_link": true
    },
    "kernelspec": {
      "name": "python3",
      "display_name": "Python 3"
    },
    "language_info": {
      "name": "python"
    },
    "accelerator": "GPU"
  },
  "cells": [
    {
      "cell_type": "markdown",
      "metadata": {
        "id": "view-in-github",
        "colab_type": "text"
      },
      "source": [
        "<a href=\"https://colab.research.google.com/github/ks-chauhan/radar-activity-recognition/blob/main/notebooks/Baseline_RDM_Classification.ipynb\" target=\"_parent\"><img src=\"https://colab.research.google.com/assets/colab-badge.svg\" alt=\"Open In Colab\"/></a>"
      ]
    },
    {
      "cell_type": "code",
      "execution_count": 15,
      "metadata": {
        "colab": {
          "base_uri": "https://localhost:8080/"
        },
        "id": "JKDWLxJe15hJ",
        "outputId": "32b59ba1-4514-4546-bb07-07bebf2fda4f"
      },
      "outputs": [
        {
          "output_type": "stream",
          "name": "stdout",
          "text": [
            "Drive already mounted at /content/drive; to attempt to forcibly remount, call drive.mount(\"/content/drive\", force_remount=True).\n"
          ]
        }
      ],
      "source": [
        "## Drive mount\n",
        "from google.colab import drive\n",
        "drive.mount('/content/drive')"
      ]
    },
    {
      "cell_type": "code",
      "source": [
        "!unzip /content/drive/MyDrive/preprocessed_data.zip -d /content/"
      ],
      "metadata": {
        "colab": {
          "base_uri": "https://localhost:8080/"
        },
        "id": "CwF8Bfj_3gmM",
        "outputId": "d2cf4a7e-ef78-4816-c6d3-abb7a57dc807"
      },
      "execution_count": 16,
      "outputs": [
        {
          "output_type": "stream",
          "name": "stdout",
          "text": [
            "Archive:  /content/drive/MyDrive/preprocessed_data.zip\n",
            "replace /content/preprocessed_data/24GHz/Away/01060010_1573837114.png? [y]es, [n]o, [A]ll, [N]one, [r]ename: N\n"
          ]
        }
      ]
    },
    {
      "cell_type": "code",
      "source": [
        "import torch\n",
        "from torchvision import datasets, transforms\n",
        "from torch.utils.data import DataLoader, random_split\n",
        "import matplotlib.pyplot as plt\n",
        "import os"
      ],
      "metadata": {
        "id": "jHHEjkmI45Gf"
      },
      "execution_count": 17,
      "outputs": []
    },
    {
      "cell_type": "code",
      "source": [
        "# --- Configurations ---\n",
        "PROCESSED_DATA_DIR = \"preprocessed_data\"\n",
        "RADAR_TYPE = \"Xethru\"\n",
        "\n",
        "# Path to save the model to\n",
        "DATA_SAVE_PATH = \"/content/drive/MyDrive/Data_Save_Path\"\n",
        "os.makedirs(DATA_SAVE_PATH, exist_ok = True)\n",
        "\n",
        "# Model Training Parameters\n",
        "BATCH_SIZE = 32\n",
        "IMG_SIZE = 128\n",
        "VALIDATION_SPLIT = 0.2\n"
      ],
      "metadata": {
        "id": "rzxLgo407jGZ"
      },
      "execution_count": 18,
      "outputs": []
    },
    {
      "cell_type": "code",
      "source": [
        "# --- Data Preparation ---\n",
        "\n",
        "# path to the specific radar type directory\n",
        "radar_data_dir = os.path.join(PROCESSED_DATA_DIR, RADAR_TYPE)\n",
        "print(f\"Loading data from: {radar_data_dir}\")\n",
        "\n",
        "# 1.) Image transformations :-\n",
        "#  - Resize images to IMG_SIZE\n",
        "#  - convert to tensor and scaling values from [0, 255] to [0, 1]\n",
        "transform = transforms.Compose([\n",
        "    transforms.Resize((IMG_SIZE, IMG_SIZE)),\n",
        "    transforms.ToTensor()\n",
        "])\n",
        "\n",
        "# 2.) Loading the entire dataset using ImageFolder\n",
        "dataset = datasets.ImageFolder(root = radar_data_dir, transform = transform)\n",
        "class_names = dataset.classes\n",
        "print(f\"classes found : {class_names}\")"
      ],
      "metadata": {
        "colab": {
          "base_uri": "https://localhost:8080/"
        },
        "id": "ZRI-W_p_8Kr4",
        "outputId": "1ad0a555-fdda-4456-bd95-7f0c51dfc892"
      },
      "execution_count": 19,
      "outputs": [
        {
          "output_type": "stream",
          "name": "stdout",
          "text": [
            "Loading data from: preprocessed_data/Xethru\n",
            "classes found : ['Away', 'Bend', 'Crawl', 'Kneel', 'Limp', 'Pick', 'SStep', 'Scissor', 'Sit', 'Toes', 'Towards']\n"
          ]
        }
      ]
    },
    {
      "cell_type": "code",
      "source": [
        "# 3.) Splitting the dataset into training and validation sets\n",
        "num_data = len(dataset)\n",
        "num_val = int(num_data * VALIDATION_SPLIT)\n",
        "num_train = num_data - num_val\n",
        "\n",
        "train_dataset, val_dataset = random_split(dataset,\n",
        "                                          [num_train, num_val],\n",
        "                                          generator = torch.Generator().manual_seed(42))\n",
        "\n",
        "print(f\"Training samples: {num_train}, Validation samples: {num_val}\")"
      ],
      "metadata": {
        "colab": {
          "base_uri": "https://localhost:8080/"
        },
        "id": "xtyMDnjj8OuE",
        "outputId": "4bdb61fd-649b-4f8b-b1c3-38869a034a9f"
      },
      "execution_count": 20,
      "outputs": [
        {
          "output_type": "stream",
          "name": "stdout",
          "text": [
            "Training samples: 523, Validation samples: 130\n"
          ]
        }
      ]
    },
    {
      "cell_type": "code",
      "source": [
        "# 4.) Creating DataLoaders for both training and validation datasets\n",
        "train_loader = DataLoader(train_dataset,\n",
        "                          batch_size = BATCH_SIZE,\n",
        "                          shuffle = True)\n",
        "\n",
        "val_loader = DataLoader(val_dataset,\n",
        "                        batch_size=BATCH_SIZE,\n",
        "                        shuffle = False)"
      ],
      "metadata": {
        "id": "8FBcWKaJ8Uvp"
      },
      "execution_count": 21,
      "outputs": []
    },
    {
      "cell_type": "code",
      "source": [
        "# Data Inspection\n",
        "images_batch, Labels_batch = next(iter(train_loader))\n",
        "print(f\"Batch size: {images_batch.shape}, Labels: {Labels_batch.shape}\")"
      ],
      "metadata": {
        "colab": {
          "base_uri": "https://localhost:8080/"
        },
        "id": "eNsL34788YRj",
        "outputId": "d791ab25-9507-40c1-fd1a-1735219b43c8"
      },
      "execution_count": 22,
      "outputs": [
        {
          "output_type": "stream",
          "name": "stdout",
          "text": [
            "Batch size: torch.Size([32, 3, 128, 128]), Labels: torch.Size([32])\n"
          ]
        }
      ]
    },
    {
      "cell_type": "code",
      "source": [
        "def sample_display(inp, title=None):\n",
        "    \"\"\"Display sample images\"\"\"\n",
        "    inp = inp.numpy().transpose((1, 2, 0)) # [C, H, W] to [H, W, C]\n",
        "    plt.imshow(inp)\n",
        "    if title is not None:\n",
        "        plt.title(title)\n",
        "    plt.pause(0.001)  # pause a bit so that plots are updated\n",
        "\n",
        "# One batch of Training images\n",
        "images, labels = next(iter(train_loader))\n",
        "\n",
        "# Displaying the first 9 images in the batch\n",
        "import torchvision\n",
        "out = torchvision.utils.make_grid(images[16:18])\n",
        "sample_display(out, title=[class_names[x] for x in labels[16:18]])\n",
        "plt.show()"
      ],
      "metadata": {
        "colab": {
          "base_uri": "https://localhost:8080/",
          "height": 332
        },
        "id": "gLgdcmlE8a4I",
        "outputId": "7429a765-31f3-4e3a-887c-ad2b26aabd63"
      },
      "execution_count": 23,
      "outputs": [
        {
          "output_type": "display_data",
          "data": {
            "text/plain": [
              "<Figure size 640x480 with 1 Axes>"
            ],
            "image/png": "[encoded data removed]"
          },
          "metadata": {}
        }
      ]
    },
    {
      "cell_type": "code",
      "source": [
        "## ---- MODEL DEFINITION ----\n",
        "import torch.nn as nn\n",
        "\n",
        "class SimpleCNN(nn.Module):\n",
        "    def __init__(self, num_classes):\n",
        "        super(SimpleCNN, self).__init__()\n",
        "        # Input shape : [batch, 3, 128, 128]\n",
        "        self.conv1 = nn.Conv2d(in_channels = 3, out_channels = 16, kernel_size = 3, stride = 1, padding = 1)\n",
        "        # Output shape : [batch, 16, 128, 128]\n",
        "        self.relu1 = nn.ReLU()\n",
        "        self.pool1 = nn.MaxPool2d(kernel_size = 2, stride = 2, padding = 0)\n",
        "        # Output Shape : [batch, 16, 64, 64]\n",
        "\n",
        "        self.conv2 = nn.Conv2d(in_channels = 16, out_channels = 32, kernel_size = 3, stride = 1, padding = 1)\n",
        "        # Output Shape : [batch, 32, 64, 64]\n",
        "        self.relu2 = nn.ReLU()\n",
        "        self.pool2 = nn.MaxPool2d(kernel_size = 2, stride = 2, padding = 0)\n",
        "        # Output Shape : [batch, 32, 32, 32]\n",
        "\n",
        "        self.conv3 = nn.Conv2d(in_channels = 32, out_channels = 64, kernel_size = 3, stride = 1, padding = 1)\n",
        "        # Output Shape : [batch, 64, 32, 32]\n",
        "        self.relu3 = nn.ReLU()\n",
        "        self.pool3 = nn.MaxPool2d(kernel_size = 2, stride = 2, padding = 0)\n",
        "        # Output Shape : [batch, 64, 16, 16]\n",
        "\n",
        "        # Flatten the output from the convolutional layers\n",
        "        self.flatten = nn.Flatten()\n",
        "        self.fc1 = nn.Linear(64*16*16, 512)\n",
        "        self.relu4 = nn.ReLU()\n",
        "        self.fc2 = nn.Linear(512, num_classes)\n",
        "\n",
        "    def forward(self, x):\n",
        "        x = self.pool1(self.relu1(self.conv1(x)))\n",
        "        x = self.pool2(self.relu2(self.conv2(x)))\n",
        "        x = self.pool3(self.relu3(self.conv3(x)))\n",
        "        x = self.flatten(x)\n",
        "        x = self.relu4(self.fc1(x))\n",
        "        x = self.fc2(x)\n",
        "        return x\n"
      ],
      "metadata": {
        "id": "MimlaNM48df_"
      },
      "execution_count": 24,
      "outputs": []
    },
    {
      "cell_type": "code",
      "source": [
        "## Check for GPU availability\n",
        "device = torch.device(\"cuda\" if torch.cuda.is_available() else \"cpu\")\n",
        "print(f\"Using Device : {device}\")"
      ],
      "metadata": {
        "colab": {
          "base_uri": "https://localhost:8080/"
        },
        "id": "cCo0Cv_Z8h0u",
        "outputId": "cff92bf6-5e5b-4d64-b76b-cd27d8d14702"
      },
      "execution_count": 25,
      "outputs": [
        {
          "output_type": "stream",
          "name": "stdout",
          "text": [
            "Using Device : cuda\n"
          ]
        }
      ]
    },
    {
      "cell_type": "code",
      "source": [
        "## Instantiating the model\n",
        "model = SimpleCNN(num_classes = len(class_names)).to(device)"
      ],
      "metadata": {
        "id": "GbwJjqZ58kOU"
      },
      "execution_count": 26,
      "outputs": []
    },
    {
      "cell_type": "code",
      "source": [
        "import time\n",
        "## ---- Training the Model ----\n",
        "print(\"Starting Model Training\")\n",
        "\n",
        "# Loss function and optimizer definition\n",
        "criterion = nn.CrossEntropyLoss()\n",
        "optimizer = torch.optim.Adam(model.parameters(), lr = 0.001)\n",
        "\n",
        "start_time = time.time()\n",
        "best_val_accuracy = 0.0\n",
        "best_val_loss = 100.0\n",
        "NUM_EPOCHS = 15 # Number of epochs for training\n",
        "for epoch in range(NUM_EPOCHS):\n",
        "    model.train() # Setting the model to training mode\n",
        "    running_loss = 0.0\n",
        "    correct_predictions = 0\n",
        "    total_samples = 0\n",
        "    for i,(images, labels) in enumerate(train_loader):\n",
        "        images, labels = images.to(device), labels.to(device)\n",
        "\n",
        "        # Forward pass\n",
        "        prediction = model(images)\n",
        "        loss = criterion(prediction, labels)\n",
        "\n",
        "        # Backward pass and optimization\n",
        "        optimizer.zero_grad()\n",
        "        loss.backward()\n",
        "        optimizer.step()\n",
        "\n",
        "        #\n",
        "        running_loss += loss.item() * images.size(0)\n",
        "        _, predicted = torch.max(prediction.data, 1)\n",
        "        total_samples += labels.size(0)\n",
        "        correct_predictions += (predicted == labels).sum().item()\n",
        "    epoch_loss = running_loss / total_samples\n",
        "    epoch_accuracy = (correct_predictions / total_samples) * 100\n",
        "\n",
        "    # --- Validation step ---\n",
        "    model.eval() # Setting the model to envaluation mode\n",
        "    val_loss = 0.0\n",
        "    val_correct_predictions = 0\n",
        "    val_total_samples = 0\n",
        "    with torch.no_grad():\n",
        "        for val_images, val_labels in val_loader:\n",
        "            val_images, val_labels = val_images.to(device), val_labels.to(device)\n",
        "\n",
        "            prediction = model(val_images)\n",
        "            loss = criterion(prediction, val_labels)\n",
        "\n",
        "            val_loss += loss.item() * val_images.size(0)\n",
        "            _, val_predicted = torch.max(prediction.data, 1)\n",
        "            val_total_samples += val_labels.size(0)\n",
        "            val_correct_predictions += (val_predicted == val_labels).sum().item()\n",
        "        val_epoch_loss = val_loss / val_total_samples\n",
        "        val_epoch_accuracy = (val_correct_predictions / val_total_samples) * 100\n",
        "\n",
        "        print(f\"epoch [{epoch+1}/{NUM_EPOCHS}] | \")\n",
        "        print(f\"training loss : {epoch_loss:.4f} and training accuracy : {epoch_accuracy:.2f}% | \")\n",
        "        print(f\"validation loss : {val_epoch_loss:.4f} and validation accuracy : {val_epoch_accuracy:.2f}% | \")\n",
        "        if (val_epoch_accuracy > best_val_accuracy and val_epoch_loss < best_val_loss):\n",
        "            best_val_accuracy = val_epoch_accuracy\n",
        "            best_val_loss = val_epoch_loss\n",
        "            model_name = f\"best_model_{RADAR_TYPE}.pth\"\n",
        "            torch.save(model.state_dict(), os.path.join(DATA_SAVE_PATH, model_name))\n",
        "            print(f\"-> New best model saved with accuracy: {val_epoch_accuracy:.2f}%\")\n",
        "\n",
        "end_time = time.time()\n",
        "print(\"\\n Training completed\")\n",
        "print(f\"total time take : {end_time - start_time:.2f} seconds\")"
      ],
      "metadata": {
        "colab": {
          "base_uri": "https://localhost:8080/"
        },
        "id": "nfu3mvgo8nIY",
        "outputId": "052448e2-8a79-4984-a632-9cfdd4113ce9"
      },
      "execution_count": 29,
      "outputs": [
        {
          "output_type": "stream",
          "name": "stdout",
          "text": [
            "Starting Model Training\n",
            "epoch [1/15] | \n",
            "training loss : 1.0007 and training accuracy : 61.76% | \n",
            "validation loss : 0.8264 and validation accuracy : 66.92% | \n",
            "-> New best model saved with accuracy: 66.92%\n",
            "epoch [2/15] | \n",
            "training loss : 0.6611 and training accuracy : 71.51% | \n",
            "validation loss : 0.7171 and validation accuracy : 76.15% | \n",
            "-> New best model saved with accuracy: 76.15%\n",
            "epoch [3/15] | \n",
            "training loss : 0.5013 and training accuracy : 82.03% | \n",
            "validation loss : 0.6382 and validation accuracy : 73.08% | \n",
            "epoch [4/15] | \n",
            "training loss : 0.4378 and training accuracy : 83.17% | \n",
            "validation loss : 0.5418 and validation accuracy : 79.23% | \n",
            "-> New best model saved with accuracy: 79.23%\n",
            "epoch [5/15] | \n",
            "training loss : 0.3948 and training accuracy : 87.00% | \n",
            "validation loss : 0.7071 and validation accuracy : 74.62% | \n",
            "epoch [6/15] | \n",
            "training loss : 0.3155 and training accuracy : 88.91% | \n",
            "validation loss : 0.6346 and validation accuracy : 76.15% | \n",
            "epoch [7/15] | \n",
            "training loss : 0.2214 and training accuracy : 91.78% | \n",
            "validation loss : 0.6499 and validation accuracy : 76.92% | \n",
            "epoch [8/15] | \n",
            "training loss : 0.1473 and training accuracy : 94.07% | \n",
            "validation loss : 0.6628 and validation accuracy : 80.00% | \n",
            "epoch [9/15] | \n",
            "training loss : 0.1337 and training accuracy : 95.60% | \n",
            "validation loss : 0.5194 and validation accuracy : 84.62% | \n",
            "-> New best model saved with accuracy: 84.62%\n",
            "epoch [10/15] | \n",
            "training loss : 0.0932 and training accuracy : 96.18% | \n",
            "validation loss : 0.5704 and validation accuracy : 83.08% | \n",
            "epoch [11/15] | \n",
            "training loss : 0.0552 and training accuracy : 98.47% | \n",
            "validation loss : 0.5324 and validation accuracy : 85.38% | \n",
            "epoch [12/15] | \n",
            "training loss : 0.0168 and training accuracy : 100.00% | \n",
            "validation loss : 0.7137 and validation accuracy : 83.08% | \n",
            "epoch [13/15] | \n",
            "training loss : 0.0139 and training accuracy : 99.81% | \n",
            "validation loss : 0.7754 and validation accuracy : 81.54% | \n",
            "epoch [14/15] | \n",
            "training loss : 0.0342 and training accuracy : 98.85% | \n",
            "validation loss : 0.7420 and validation accuracy : 82.31% | \n",
            "epoch [15/15] | \n",
            "training loss : 0.0157 and training accuracy : 99.62% | \n",
            "validation loss : 0.5928 and validation accuracy : 86.15% | \n",
            "\n",
            " Training completed\n",
            "total time take : 11.53 seconds\n"
          ]
        }
      ]
    },
    {
      "cell_type": "code",
      "source": [],
      "metadata": {
        "id": "pNLHb5nb8_fY"
      },
      "execution_count": null,
      "outputs": []
    }
  ]
}